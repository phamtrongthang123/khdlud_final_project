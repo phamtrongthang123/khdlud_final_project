{
  "nbformat": 4,
  "nbformat_minor": 0,
  "metadata": {
    "colab": {
      "name": "Demo.ipynb",
      "provenance": [],
      "collapsed_sections": [],
      "toc_visible": true
    },
    "kernelspec": {
      "name": "python3",
      "display_name": "Python 3"
    }
  },
  "cells": [
    {
      "cell_type": "code",
      "metadata": {
        "colab": {
          "base_uri": "https://localhost:8080/"
        },
        "id": "FCvgdmEz1Y5-",
        "outputId": "7d990a9e-4168-41ed-98aa-ffdbfc2c42f5"
      },
      "source": [
        "#install transformer\r\n",
        "!git clone https://github.com/huggingface/transformers.git\r\n",
        "%cd transformers\r\n",
        "!pip3 install --upgrade .\r\n",
        "%cd ../"
      ],
      "execution_count": 1,
      "outputs": [
        {
          "output_type": "stream",
          "text": [
            "Cloning into 'transformers'...\n",
            "remote: Enumerating objects: 57703, done.\u001b[K\n",
            "remote: Total 57703 (delta 0), reused 0 (delta 0), pack-reused 57703\n",
            "Receiving objects: 100% (57703/57703), 42.96 MiB | 14.20 MiB/s, done.\n",
            "Resolving deltas: 100% (40508/40508), done.\n",
            "/content/transformers\n",
            "Processing /content/transformers\n",
            "  Installing build dependencies ... \u001b[?25l\u001b[?25hdone\n",
            "  Getting requirements to build wheel ... \u001b[?25l\u001b[?25hdone\n",
            "    Preparing wheel metadata ... \u001b[?25l\u001b[?25hdone\n",
            "Collecting sacremoses\n",
            "\u001b[?25l  Downloading https://files.pythonhosted.org/packages/7d/34/09d19aff26edcc8eb2a01bed8e98f13a1537005d31e95233fd48216eed10/sacremoses-0.0.43.tar.gz (883kB)\n",
            "\u001b[K     |████████████████████████████████| 890kB 3.9MB/s \n",
            "\u001b[?25hRequirement already satisfied, skipping upgrade: regex!=2019.12.17 in /usr/local/lib/python3.6/dist-packages (from transformers==4.2.0.dev0) (2019.12.20)\n",
            "Requirement already satisfied, skipping upgrade: tqdm>=4.27 in /usr/local/lib/python3.6/dist-packages (from transformers==4.2.0.dev0) (4.41.1)\n",
            "Requirement already satisfied, skipping upgrade: packaging in /usr/local/lib/python3.6/dist-packages (from transformers==4.2.0.dev0) (20.8)\n",
            "Requirement already satisfied, skipping upgrade: dataclasses; python_version < \"3.7\" in /usr/local/lib/python3.6/dist-packages (from transformers==4.2.0.dev0) (0.8)\n",
            "Requirement already satisfied, skipping upgrade: filelock in /usr/local/lib/python3.6/dist-packages (from transformers==4.2.0.dev0) (3.0.12)\n",
            "Requirement already satisfied, skipping upgrade: requests in /usr/local/lib/python3.6/dist-packages (from transformers==4.2.0.dev0) (2.23.0)\n",
            "Collecting tokenizers==0.9.4\n",
            "\u001b[?25l  Downloading https://files.pythonhosted.org/packages/0f/1c/e789a8b12e28be5bc1ce2156cf87cb522b379be9cadc7ad8091a4cc107c4/tokenizers-0.9.4-cp36-cp36m-manylinux2010_x86_64.whl (2.9MB)\n",
            "\u001b[K     |████████████████████████████████| 2.9MB 7.8MB/s \n",
            "\u001b[?25hRequirement already satisfied, skipping upgrade: numpy in /usr/local/lib/python3.6/dist-packages (from transformers==4.2.0.dev0) (1.19.4)\n",
            "Requirement already satisfied, skipping upgrade: six in /usr/local/lib/python3.6/dist-packages (from sacremoses->transformers==4.2.0.dev0) (1.15.0)\n",
            "Requirement already satisfied, skipping upgrade: click in /usr/local/lib/python3.6/dist-packages (from sacremoses->transformers==4.2.0.dev0) (7.1.2)\n",
            "Requirement already satisfied, skipping upgrade: joblib in /usr/local/lib/python3.6/dist-packages (from sacremoses->transformers==4.2.0.dev0) (1.0.0)\n",
            "Requirement already satisfied, skipping upgrade: pyparsing>=2.0.2 in /usr/local/lib/python3.6/dist-packages (from packaging->transformers==4.2.0.dev0) (2.4.7)\n",
            "Requirement already satisfied, skipping upgrade: chardet<4,>=3.0.2 in /usr/local/lib/python3.6/dist-packages (from requests->transformers==4.2.0.dev0) (3.0.4)\n",
            "Requirement already satisfied, skipping upgrade: urllib3!=1.25.0,!=1.25.1,<1.26,>=1.21.1 in /usr/local/lib/python3.6/dist-packages (from requests->transformers==4.2.0.dev0) (1.24.3)\n",
            "Requirement already satisfied, skipping upgrade: certifi>=2017.4.17 in /usr/local/lib/python3.6/dist-packages (from requests->transformers==4.2.0.dev0) (2020.12.5)\n",
            "Requirement already satisfied, skipping upgrade: idna<3,>=2.5 in /usr/local/lib/python3.6/dist-packages (from requests->transformers==4.2.0.dev0) (2.10)\n",
            "Building wheels for collected packages: transformers\n",
            "  Building wheel for transformers (PEP 517) ... \u001b[?25l\u001b[?25hdone\n",
            "  Created wheel for transformers: filename=transformers-4.2.0.dev0-cp36-none-any.whl size=1527222 sha256=45d2763380aff72e31e4e805f728d87d4043fb839bff46115569b3a6d8e0ffa8\n",
            "  Stored in directory: /tmp/pip-ephem-wheel-cache-e8t4qotz/wheels/23/19/dd/2561a4e47240cf6b307729d58e56f8077dd0c698f5992216cf\n",
            "Successfully built transformers\n",
            "Building wheels for collected packages: sacremoses\n",
            "  Building wheel for sacremoses (setup.py) ... \u001b[?25l\u001b[?25hdone\n",
            "  Created wheel for sacremoses: filename=sacremoses-0.0.43-cp36-none-any.whl size=893261 sha256=ffd736412e072cdae7f0203e13a106cb63e917d48104ee02625d5373eb6e331b\n",
            "  Stored in directory: /root/.cache/pip/wheels/29/3c/fd/7ce5c3f0666dab31a50123635e6fb5e19ceb42ce38d4e58f45\n",
            "Successfully built sacremoses\n",
            "Installing collected packages: sacremoses, tokenizers, transformers\n",
            "Successfully installed sacremoses-0.0.43 tokenizers-0.9.4 transformers-4.2.0.dev0\n",
            "/content\n"
          ],
          "name": "stdout"
        }
      ]
    },
    {
      "cell_type": "code",
      "metadata": {
        "id": "tQn_o9u5KOpW",
        "colab": {
          "base_uri": "https://localhost:8080/"
        },
        "outputId": "32321fe3-deda-43df-faf9-011193311d89"
      },
      "source": [
        "!pip install underthesea\r\n",
        "# Install the vncorenlp python wrapper\r\n",
        "!pip3 install vncorenlp\r\n",
        "\r\n",
        "# Download VnCoreNLP-1.1.1.jar & its word segmentation component (i.e. RDRSegmenter) \r\n",
        "!mkdir -p vncorenlp/models/wordsegmenter\r\n",
        "!wget https://raw.githubusercontent.com/vncorenlp/VnCoreNLP/master/VnCoreNLP-1.1.1.jar\r\n",
        "!wget https://raw.githubusercontent.com/vncorenlp/VnCoreNLP/master/models/wordsegmenter/vi-vocab\r\n",
        "!wget https://raw.githubusercontent.com/vncorenlp/VnCoreNLP/master/models/wordsegmenter/wordsegmenter.rdr\r\n",
        "!mv VnCoreNLP-1.1.1.jar vncorenlp/ \r\n",
        "!mv vi-vocab vncorenlp/models/wordsegmenter/\r\n",
        "!mv wordsegmenter.rdr vncorenlp/models/wordsegmenter/"
      ],
      "execution_count": 2,
      "outputs": [
        {
          "output_type": "stream",
          "text": [
            "Collecting underthesea\n",
            "\u001b[?25l  Downloading https://files.pythonhosted.org/packages/15/53/50ab756869f23d2bd1b3978d6b1c17c650d90abd5928701e7bd65adb6986/underthesea-1.3.0-py3-none-any.whl (7.5MB)\n",
            "\u001b[K     |████████████████████████████████| 7.5MB 3.8MB/s \n",
            "\u001b[?25hCollecting python-crfsuite>=0.9.6\n",
            "\u001b[?25l  Downloading https://files.pythonhosted.org/packages/95/99/869dde6dbf3e0d07a013c8eebfb0a3d30776334e0097f8432b631a9a3a19/python_crfsuite-0.9.7-cp36-cp36m-manylinux1_x86_64.whl (743kB)\n",
            "\u001b[K     |████████████████████████████████| 747kB 52.9MB/s \n",
            "\u001b[?25hCollecting scikit-learn<0.22,>=0.20\n",
            "\u001b[?25l  Downloading https://files.pythonhosted.org/packages/a0/c5/d2238762d780dde84a20b8c761f563fe882b88c5a5fb03c056547c442a19/scikit_learn-0.21.3-cp36-cp36m-manylinux1_x86_64.whl (6.7MB)\n",
            "\u001b[K     |████████████████████████████████| 6.7MB 39.8MB/s \n",
            "\u001b[?25hCollecting unidecode\n",
            "\u001b[?25l  Downloading https://files.pythonhosted.org/packages/74/65/91eab655041e9e92f948cb7302e54962035762ce7b518272ed9d6b269e93/Unidecode-1.1.2-py2.py3-none-any.whl (239kB)\n",
            "\u001b[K     |████████████████████████████████| 245kB 34.3MB/s \n",
            "\u001b[?25hRequirement already satisfied: joblib in /usr/local/lib/python3.6/dist-packages (from underthesea) (1.0.0)\n",
            "Collecting torch<=1.5.1,>=1.1.0\n",
            "\u001b[?25l  Downloading https://files.pythonhosted.org/packages/62/01/457b49d790b6c4b9720e6f9dbbb617692f6ce8afdaadf425c055c41a7416/torch-1.5.1-cp36-cp36m-manylinux1_x86_64.whl (753.2MB)\n",
            "\u001b[K     |████████████████████████████████| 753.2MB 22kB/s \n",
            "\u001b[?25hRequirement already satisfied: nltk in /usr/local/lib/python3.6/dist-packages (from underthesea) (3.2.5)\n",
            "Collecting seqeval\n",
            "\u001b[?25l  Downloading https://files.pythonhosted.org/packages/9d/2d/233c79d5b4e5ab1dbf111242299153f3caddddbb691219f363ad55ce783d/seqeval-1.2.2.tar.gz (43kB)\n",
            "\u001b[K     |████████████████████████████████| 51kB 6.4MB/s \n",
            "\u001b[?25hCollecting transformers<=3.5.1,>=3.5.0\n",
            "\u001b[?25l  Downloading https://files.pythonhosted.org/packages/3a/83/e74092e7f24a08d751aa59b37a9fc572b2e4af3918cb66f7766c3affb1b4/transformers-3.5.1-py3-none-any.whl (1.3MB)\n",
            "\u001b[K     |████████████████████████████████| 1.3MB 48.0MB/s \n",
            "\u001b[?25hRequirement already satisfied: requests in /usr/local/lib/python3.6/dist-packages (from underthesea) (2.23.0)\n",
            "Requirement already satisfied: Click>=6.0 in /usr/local/lib/python3.6/dist-packages (from underthesea) (7.1.2)\n",
            "Requirement already satisfied: PyYAML in /usr/local/lib/python3.6/dist-packages (from underthesea) (3.13)\n",
            "Requirement already satisfied: tqdm in /usr/local/lib/python3.6/dist-packages (from underthesea) (4.41.1)\n",
            "Requirement already satisfied: numpy>=1.11.0 in /usr/local/lib/python3.6/dist-packages (from scikit-learn<0.22,>=0.20->underthesea) (1.19.4)\n",
            "Requirement already satisfied: scipy>=0.17.0 in /usr/local/lib/python3.6/dist-packages (from scikit-learn<0.22,>=0.20->underthesea) (1.4.1)\n",
            "Requirement already satisfied: future in /usr/local/lib/python3.6/dist-packages (from torch<=1.5.1,>=1.1.0->underthesea) (0.16.0)\n",
            "Requirement already satisfied: six in /usr/local/lib/python3.6/dist-packages (from nltk->underthesea) (1.15.0)\n",
            "Collecting tokenizers==0.9.3\n",
            "\u001b[?25l  Downloading https://files.pythonhosted.org/packages/4c/34/b39eb9994bc3c999270b69c9eea40ecc6f0e97991dba28282b9fd32d44ee/tokenizers-0.9.3-cp36-cp36m-manylinux1_x86_64.whl (2.9MB)\n",
            "\u001b[K     |████████████████████████████████| 2.9MB 50.3MB/s \n",
            "\u001b[?25hRequirement already satisfied: filelock in /usr/local/lib/python3.6/dist-packages (from transformers<=3.5.1,>=3.5.0->underthesea) (3.0.12)\n",
            "Requirement already satisfied: packaging in /usr/local/lib/python3.6/dist-packages (from transformers<=3.5.1,>=3.5.0->underthesea) (20.8)\n",
            "Requirement already satisfied: sacremoses in /usr/local/lib/python3.6/dist-packages (from transformers<=3.5.1,>=3.5.0->underthesea) (0.0.43)\n",
            "Collecting sentencepiece==0.1.91\n",
            "\u001b[?25l  Downloading https://files.pythonhosted.org/packages/d4/a4/d0a884c4300004a78cca907a6ff9a5e9fe4f090f5d95ab341c53d28cbc58/sentencepiece-0.1.91-cp36-cp36m-manylinux1_x86_64.whl (1.1MB)\n",
            "\u001b[K     |████████████████████████████████| 1.1MB 50.3MB/s \n",
            "\u001b[?25hRequirement already satisfied: regex!=2019.12.17 in /usr/local/lib/python3.6/dist-packages (from transformers<=3.5.1,>=3.5.0->underthesea) (2019.12.20)\n",
            "Requirement already satisfied: dataclasses; python_version < \"3.7\" in /usr/local/lib/python3.6/dist-packages (from transformers<=3.5.1,>=3.5.0->underthesea) (0.8)\n",
            "Requirement already satisfied: protobuf in /usr/local/lib/python3.6/dist-packages (from transformers<=3.5.1,>=3.5.0->underthesea) (3.12.4)\n",
            "Requirement already satisfied: certifi>=2017.4.17 in /usr/local/lib/python3.6/dist-packages (from requests->underthesea) (2020.12.5)\n",
            "Requirement already satisfied: idna<3,>=2.5 in /usr/local/lib/python3.6/dist-packages (from requests->underthesea) (2.10)\n",
            "Requirement already satisfied: urllib3!=1.25.0,!=1.25.1,<1.26,>=1.21.1 in /usr/local/lib/python3.6/dist-packages (from requests->underthesea) (1.24.3)\n",
            "Requirement already satisfied: chardet<4,>=3.0.2 in /usr/local/lib/python3.6/dist-packages (from requests->underthesea) (3.0.4)\n",
            "Requirement already satisfied: pyparsing>=2.0.2 in /usr/local/lib/python3.6/dist-packages (from packaging->transformers<=3.5.1,>=3.5.0->underthesea) (2.4.7)\n",
            "Requirement already satisfied: setuptools in /usr/local/lib/python3.6/dist-packages (from protobuf->transformers<=3.5.1,>=3.5.0->underthesea) (51.0.0)\n",
            "Building wheels for collected packages: seqeval\n",
            "  Building wheel for seqeval (setup.py) ... \u001b[?25l\u001b[?25hdone\n",
            "  Created wheel for seqeval: filename=seqeval-1.2.2-cp36-none-any.whl size=16171 sha256=231daf15bc68d6c6902db0727765931b5856d6cdd1ea447ab6262aa9f8091c9e\n",
            "  Stored in directory: /root/.cache/pip/wheels/52/df/1b/45d75646c37428f7e626214704a0e35bd3cfc32eda37e59e5f\n",
            "Successfully built seqeval\n",
            "\u001b[31mERROR: torchvision 0.8.1+cu101 has requirement torch==1.7.0, but you'll have torch 1.5.1 which is incompatible.\u001b[0m\n",
            "Installing collected packages: python-crfsuite, scikit-learn, unidecode, torch, seqeval, tokenizers, sentencepiece, transformers, underthesea\n",
            "  Found existing installation: scikit-learn 0.22.2.post1\n",
            "    Uninstalling scikit-learn-0.22.2.post1:\n",
            "      Successfully uninstalled scikit-learn-0.22.2.post1\n",
            "  Found existing installation: torch 1.7.0+cu101\n",
            "    Uninstalling torch-1.7.0+cu101:\n",
            "      Successfully uninstalled torch-1.7.0+cu101\n",
            "  Found existing installation: tokenizers 0.9.4\n",
            "    Uninstalling tokenizers-0.9.4:\n",
            "      Successfully uninstalled tokenizers-0.9.4\n",
            "  Found existing installation: transformers 4.2.0.dev0\n",
            "    Uninstalling transformers-4.2.0.dev0:\n",
            "      Successfully uninstalled transformers-4.2.0.dev0\n",
            "Successfully installed python-crfsuite-0.9.7 scikit-learn-0.21.3 sentencepiece-0.1.91 seqeval-1.2.2 tokenizers-0.9.3 torch-1.5.1 transformers-3.5.1 underthesea-1.3.0 unidecode-1.1.2\n",
            "Collecting vncorenlp\n",
            "\u001b[?25l  Downloading https://files.pythonhosted.org/packages/71/c2/96a60cf75421ecc740829fa920c617b3dd7fa6791e17554e7c6f3e7d7fca/vncorenlp-1.0.3.tar.gz (2.6MB)\n",
            "\u001b[K     |████████████████████████████████| 2.7MB 4.2MB/s \n",
            "\u001b[?25hRequirement already satisfied: requests in /usr/local/lib/python3.6/dist-packages (from vncorenlp) (2.23.0)\n",
            "Requirement already satisfied: certifi>=2017.4.17 in /usr/local/lib/python3.6/dist-packages (from requests->vncorenlp) (2020.12.5)\n",
            "Requirement already satisfied: idna<3,>=2.5 in /usr/local/lib/python3.6/dist-packages (from requests->vncorenlp) (2.10)\n",
            "Requirement already satisfied: urllib3!=1.25.0,!=1.25.1,<1.26,>=1.21.1 in /usr/local/lib/python3.6/dist-packages (from requests->vncorenlp) (1.24.3)\n",
            "Requirement already satisfied: chardet<4,>=3.0.2 in /usr/local/lib/python3.6/dist-packages (from requests->vncorenlp) (3.0.4)\n",
            "Building wheels for collected packages: vncorenlp\n",
            "  Building wheel for vncorenlp (setup.py) ... \u001b[?25l\u001b[?25hdone\n",
            "  Created wheel for vncorenlp: filename=vncorenlp-1.0.3-cp36-none-any.whl size=2645936 sha256=010833b813c67779eb79e818e30de1630ce791cad7318005d85c63746f7474c3\n",
            "  Stored in directory: /root/.cache/pip/wheels/09/54/8b/043667de6091d06a381d7745f44174504a9a4a56ecc9380c54\n",
            "Successfully built vncorenlp\n",
            "Installing collected packages: vncorenlp\n",
            "Successfully installed vncorenlp-1.0.3\n",
            "--2020-12-31 04:23:23--  https://raw.githubusercontent.com/vncorenlp/VnCoreNLP/master/VnCoreNLP-1.1.1.jar\n",
            "Resolving raw.githubusercontent.com (raw.githubusercontent.com)... 151.101.0.133, 151.101.64.133, 151.101.128.133, ...\n",
            "Connecting to raw.githubusercontent.com (raw.githubusercontent.com)|151.101.0.133|:443... connected.\n",
            "HTTP request sent, awaiting response... 200 OK\n",
            "Length: 27412575 (26M) [application/octet-stream]\n",
            "Saving to: ‘VnCoreNLP-1.1.1.jar’\n",
            "\n",
            "VnCoreNLP-1.1.1.jar 100%[===================>]  26.14M  47.9MB/s    in 0.5s    \n",
            "\n",
            "2020-12-31 04:23:25 (47.9 MB/s) - ‘VnCoreNLP-1.1.1.jar’ saved [27412575/27412575]\n",
            "\n",
            "--2020-12-31 04:23:25--  https://raw.githubusercontent.com/vncorenlp/VnCoreNLP/master/models/wordsegmenter/vi-vocab\n",
            "Resolving raw.githubusercontent.com (raw.githubusercontent.com)... 151.101.0.133, 151.101.64.133, 151.101.128.133, ...\n",
            "Connecting to raw.githubusercontent.com (raw.githubusercontent.com)|151.101.0.133|:443... connected.\n",
            "HTTP request sent, awaiting response... 200 OK\n",
            "Length: 526544 (514K) [application/octet-stream]\n",
            "Saving to: ‘vi-vocab’\n",
            "\n",
            "vi-vocab            100%[===================>] 514.20K  --.-KB/s    in 0.05s   \n",
            "\n",
            "2020-12-31 04:23:27 (9.98 MB/s) - ‘vi-vocab’ saved [526544/526544]\n",
            "\n",
            "--2020-12-31 04:23:27--  https://raw.githubusercontent.com/vncorenlp/VnCoreNLP/master/models/wordsegmenter/wordsegmenter.rdr\n",
            "Resolving raw.githubusercontent.com (raw.githubusercontent.com)... 151.101.0.133, 151.101.64.133, 151.101.128.133, ...\n",
            "Connecting to raw.githubusercontent.com (raw.githubusercontent.com)|151.101.0.133|:443... connected.\n",
            "HTTP request sent, awaiting response... 200 OK\n",
            "Length: 128508 (125K) [text/plain]\n",
            "Saving to: ‘wordsegmenter.rdr’\n",
            "\n",
            "wordsegmenter.rdr   100%[===================>] 125.50K  --.-KB/s    in 0.03s   \n",
            "\n",
            "2020-12-31 04:23:28 (4.71 MB/s) - ‘wordsegmenter.rdr’ saved [128508/128508]\n",
            "\n"
          ],
          "name": "stdout"
        }
      ]
    },
    {
      "cell_type": "code",
      "metadata": {
        "id": "htQyRJq-aTHe"
      },
      "source": [
        "import os\r\n",
        "import json\r\n",
        "import tensorflow as tf\r\n",
        "import pandas as pd\r\n",
        "import numpy as np\r\n",
        "import re\r\n",
        "import requests\r\n",
        "import cv2\r\n",
        "import matplotlib.pyplot as plt\r\n",
        "\r\n",
        "from sklearn.model_selection import train_test_split\r\n",
        "from sklearn.feature_extraction.text import TfidfVectorizer, CountVectorizer\r\n",
        "from sklearn.preprocessing import OneHotEncoder\r\n",
        "from sklearn.preprocessing import MinMaxScaler, StandardScaler"
      ],
      "execution_count": 1,
      "outputs": []
    },
    {
      "cell_type": "code",
      "metadata": {
        "id": "uLeY7t7iHIcX"
      },
      "source": [
        "with open(\"demo/demo_crawl_result.json\",\"rb\") as f:\r\n",
        "    data = json.load(f)"
      ],
      "execution_count": 2,
      "outputs": []
    },
    {
      "cell_type": "markdown",
      "metadata": {
        "id": "z0JFcNvGJpYU"
      },
      "source": [
        "# Review Rating Prediction"
      ]
    },
    {
      "cell_type": "code",
      "metadata": {
        "id": "TiR-t0YkJhwe"
      },
      "source": [
        "reviews = data['comments']"
      ],
      "execution_count": 3,
      "outputs": []
    },
    {
      "cell_type": "code",
      "metadata": {
        "id": "t8FAxMQ9KDVN"
      },
      "source": [
        "cmt_df = pd.read_csv(\"data/items_cmt_eachrate2cmt.csv\", encoding='utf-8', delimiter=\"\\t\").dropna() #drop row with empty content"
      ],
      "execution_count": 4,
      "outputs": []
    },
    {
      "cell_type": "code",
      "metadata": {
        "id": "j-ywkHmkJoEb"
      },
      "source": [
        "from vncorenlp import VnCoreNLP\r\n",
        "rdrsegmenter = VnCoreNLP(\"vncorenlp/VnCoreNLP-1.1.1.jar\", annotators=\"wseg\", max_heap_size='-Xmx500m') \r\n",
        "\r\n",
        "def remove_punctuation(text):\r\n",
        "    # remove stopword\r\n",
        " \r\n",
        "    # Xóa dấu chấm, phẩy, hỏi ở cuối câu\r\n",
        "    text = re.sub(r\"[\\.,\\?]+$-\", \"\", text)\r\n",
        "    # Xóa tất cả dấu chấm, phẩy, chấm phẩy, chấm thang, ... trong câu\r\n",
        "    text = text.replace(\",\", \" \").replace(\".\",\" \") \\\r\n",
        "        .replace(\";\", \" \").replace(\"“\", \" \") \\\r\n",
        "        .replace(\":\", \" \").replace(\"”\", \" \") \\\r\n",
        "        .replace('\"', \" \").replace(\"'\", \" \") \\\r\n",
        "        .replace(\"!\", \" \").replace(\"?\", \" \") \\\r\n",
        "        .replace(\"-\", \" \").replace(\"?\", \" \")\r\n",
        " \r\n",
        "    text = text.strip() #remove white space\r\n",
        "\r\n",
        "    return text\r\n",
        "\r\n",
        "# def word_segment(text): #using underthesea\r\n",
        "#     text = str(text)\r\n",
        "#     return word_tokenize(text, format=\"text\")\r\n",
        "\r\n",
        "def word_segment(text): #using vncorenlp\r\n",
        "    sentences = rdrsegmenter.tokenize(text) \r\n",
        "    text = \"\"\r\n",
        "    for sentence in sentences:\r\n",
        "        text += \" \" + \" \".join(sentence)\r\n",
        "    return text.strip()\r\n",
        "\r\n",
        "def filter_spam_word(text, replace_dict): #replace spam word with <unk> token, if the sentence contain only <unk>, then remove it out of the data\r\n",
        "    words = text.split()\r\n",
        "    result = []\r\n",
        "    for word in words:\r\n",
        "        if replace_dict.get(word, None):\r\n",
        "            word = replace_dict[word]\r\n",
        "        result.append(word)\r\n",
        "    \r\n",
        "    if (\" \".join(result).count(\"<unk>\") == len(words)):\r\n",
        "        return \"\"\r\n",
        "    return text \r\n",
        "    #return np.str(\" \".join(result)).strip()"
      ],
      "execution_count": 5,
      "outputs": []
    },
    {
      "cell_type": "code",
      "metadata": {
        "id": "45m47kUqJvVS"
      },
      "source": [
        "#Preprocess data, such as processing punctuation, segmenting words and filtering spam words\r\n",
        "\r\n",
        "X = cmt_df['content'].to_numpy()\r\n",
        "#X = np.vectorize(remove_punctuation)(X) #Remove punctuation\r\n",
        "\r\n",
        "X = np.vectorize(word_segment)(X)\r\n",
        "\r\n",
        "# v, c = np.unique(np.concatenate(np.char.split(X)), return_counts=True)\r\n",
        "# min_thres = 5\r\n",
        "# ignore_word_dict = {word: \"<unk>\" for word in v[c<=min_thres]}\r\n",
        "# X = np.vectorize(filter_spam_word)(X, ignore_word_dict)\r\n",
        "\r\n"
      ],
      "execution_count": 6,
      "outputs": []
    },
    {
      "cell_type": "code",
      "metadata": {
        "id": "MekyfT3jLl3d",
        "colab": {
          "base_uri": "https://localhost:8080/"
        },
        "outputId": "07a44f90-a213-4e9d-d32a-6875ffcd4cc5"
      },
      "source": [
        "X = X[X!=\"\"]\r\n",
        "X.shape"
      ],
      "execution_count": 7,
      "outputs": [
        {
          "output_type": "execute_result",
          "data": {
            "text/plain": [
              "(20966,)"
            ]
          },
          "metadata": {
            "tags": []
          },
          "execution_count": 7
        }
      ]
    },
    {
      "cell_type": "code",
      "metadata": {
        "id": "1getS8hAMhYe"
      },
      "source": [
        "X_train, X_test = train_test_split(X, test_size=0.2, random_state=1)\r\n",
        "X_train, X_val= train_test_split(X_train, test_size=0.2, random_state=1)"
      ],
      "execution_count": 8,
      "outputs": []
    },
    {
      "cell_type": "code",
      "metadata": {
        "colab": {
          "base_uri": "https://localhost:8080/"
        },
        "id": "tBz-rJYfMifc",
        "outputId": "da57e7dd-d21f-4441-9e22-0182af114b70"
      },
      "source": [
        "extractor = TfidfVectorizer(min_df=5, max_df=0.8, max_features=768)\r\n",
        "extractor.fit(X_train)"
      ],
      "execution_count": 9,
      "outputs": [
        {
          "output_type": "execute_result",
          "data": {
            "text/plain": [
              "TfidfVectorizer(analyzer='word', binary=False, decode_error='strict',\n",
              "                dtype=<class 'numpy.float64'>, encoding='utf-8',\n",
              "                input='content', lowercase=True, max_df=0.8, max_features=768,\n",
              "                min_df=5, ngram_range=(1, 1), norm='l2', preprocessor=None,\n",
              "                smooth_idf=True, stop_words=None, strip_accents=None,\n",
              "                sublinear_tf=False, token_pattern='(?u)\\\\b\\\\w\\\\w+\\\\b',\n",
              "                tokenizer=None, use_idf=True, vocabulary=None)"
            ]
          },
          "metadata": {
            "tags": []
          },
          "execution_count": 9
        }
      ]
    },
    {
      "cell_type": "code",
      "metadata": {
        "id": "DN1pvArtKy62"
      },
      "source": [
        "review_model = tf.keras.models.Sequential([\r\n",
        "    tf.keras.layers.Input(768),\r\n",
        "    tf.keras.layers.Dense(256, activation='relu', kernel_regularizer=tf.keras.regularizers.L2(0.0)),\r\n",
        "    tf.keras.layers.Dense(256, activation='relu', kernel_regularizer=tf.keras.regularizers.L2(0.0)),\r\n",
        "    tf.keras.layers.Dropout(0.5),\r\n",
        "    tf.keras.layers.Dense(5, activation ='softmax', kernel_regularizer=tf.keras.regularizers.L2(0.0))\r\n",
        "])\r\n",
        "\r\n",
        "review_model.load_weights(\"models/tfidf_nn_classify_model.h5\")"
      ],
      "execution_count": 10,
      "outputs": []
    },
    {
      "cell_type": "code",
      "metadata": {
        "colab": {
          "base_uri": "https://localhost:8080/"
        },
        "id": "niMnQNp7Mz9c",
        "outputId": "25166778-c5f0-40ff-9fc3-65726ecacc3c"
      },
      "source": [
        "input_cmts = np.array([i[1] for i in reviews])\r\n",
        "y = np.array([i[0] for i in reviews])\r\n",
        "\r\n",
        "x = np.vectorize(word_segment)(input_cmts)\r\n",
        "\r\n",
        "input_cmts = input_cmts[x!=\"\"]\r\n",
        "y=y[x!=\"\"]\r\n",
        "x = x[x!=\"\"] #filter empty comment\r\n",
        "\r\n",
        "x.shape"
      ],
      "execution_count": 11,
      "outputs": [
        {
          "output_type": "execute_result",
          "data": {
            "text/plain": [
              "(35,)"
            ]
          },
          "metadata": {
            "tags": []
          },
          "execution_count": 11
        }
      ]
    },
    {
      "cell_type": "code",
      "metadata": {
        "colab": {
          "base_uri": "https://localhost:8080/"
        },
        "id": "RJy2Ko6TMqrB",
        "outputId": "936332dd-a42e-4fb8-d460-c5346c80db92"
      },
      "source": [
        "x = extractor.transform(x) #Extract TFIDF features\r\n",
        "x.shape"
      ],
      "execution_count": 12,
      "outputs": [
        {
          "output_type": "execute_result",
          "data": {
            "text/plain": [
              "(35, 768)"
            ]
          },
          "metadata": {
            "tags": []
          },
          "execution_count": 12
        }
      ]
    },
    {
      "cell_type": "code",
      "metadata": {
        "id": "dQqKPcvqLXEX"
      },
      "source": [
        "y_pred = np.argmax(review_model(x.toarray()).numpy(), axis=1) +1"
      ],
      "execution_count": 13,
      "outputs": []
    },
    {
      "cell_type": "code",
      "metadata": {
        "colab": {
          "base_uri": "https://localhost:8080/"
        },
        "id": "JtJtKjM3M5V8",
        "outputId": "85dbcb4d-336c-4092-8c12-ec43e219c0a8"
      },
      "source": [
        "for i in range(len(input_cmts)):\r\n",
        "    predict = y_pred[i] \r\n",
        "    truth = y[i]\r\n",
        "    print(input_cmts[i])\r\n",
        "    print(\"Predicted rating: \", predict)\r\n",
        "    print(\"Crawled rating: \", truth)\r\n",
        "    print(\"==\"*50)"
      ],
      "execution_count": 14,
      "outputs": [
        {
          "output_type": "stream",
          "text": [
            "Giao hàng hơi lâu máy zin đẹp 99% abcsksbsksbsjsbsbdksbsnsnssnakabajajababsbdbsnsnsbdbdbsjsjsbsbsjsjsbbsbdhsjsjsjssbsjsjananaansbdudbsjsnsbsjsjsnbssbsbsbbsbs\n",
            "Predicted rating:  5\n",
            "Crawled rating:  4\n",
            "====================================================================================================\n",
            "đt rất oki nhé chủ shop thân thiện rep tn rất nhanh nói chung 5 sao \n",
            "Predicted rating:  5\n",
            "Crawled rating:  5\n",
            "====================================================================================================\n",
            "Hàng mới dùng chưa thấy lỗi!\n",
            "Predicted rating:  5\n",
            "Crawled rating:  5\n",
            "====================================================================================================\n",
            "Rất là con chim ưng luôn nha. Nhận hang cứ tưởng bị lừa, ai ngờ được a chủ Shop nhiệt tình và giải quyết sự cố trong một nốt nhạc. Cảm ơn Shop nhiều vì đã tăng tí lòng tin khi mua đồ online nha.hihi tăng Shop 500+ nhé!\n",
            "Predicted rating:  5\n",
            "Crawled rating:  5\n",
            "====================================================================================================\n",
            "Iphone 6 là sản phẩm với thiết kế mới của nhà Apple Kích thước màn hình 4,7 inh đến nay vẫn là tiêu chuẩn cho các dòng điện thoại mới Máy có thiết kế vỏ nhôm bo cong, mặt kính chống trầy Hiện nay cửa hàng mới nhập về rất nhiều iphone 6 qua sử dung hình thức còn đẹp. Chất pin còn vô cùng tốt,máy chạy\n",
            "Predicted rating:  5\n",
            "Crawled rating:  5\n",
            "====================================================================================================\n",
            "Shop siêu đáng yêu, anh chủ siêu nhiệt tình, mua máy mà nó bị lỗi tai nghe gọi điện a chủ cũng đổi cho, các bạn yên tâm đặt hàng nhé. Chúc shop buôn may bán đắt nhé❤️\n",
            "Predicted rating:  5\n",
            "Crawled rating:  5\n",
            "====================================================================================================\n",
            "Shop đóng gói cẩn thận mọi chức năng ok, shop tặng cho miếng dán màn hình nữa thì tốt hihi. hy vọng dùng đc lâu, vì mình mua cho mẹ dùng hì hì\n",
            "Predicted rating:  5\n",
            "Crawled rating:  5\n",
            "====================================================================================================\n",
            "Giao hàng nhanhhh , sản phẩm tốt , có hơi lag 1 xíu nhưng giá rẻ nên cũng không đòi hỏi nhiều . Còn được tặng cả ốp nữa :3\n",
            "Predicted rating:  5\n",
            "Crawled rating:  5\n",
            "====================================================================================================\n",
            "Hdbxjxozksnhshxnzjzzjnxxjjxkznxjxjzkzkzjxnxjxhsjxjxjd\n",
            "Predicted rating:  5\n",
            "Crawled rating:  5\n",
            "====================================================================================================\n",
            "Điện thoại đúng chất lượng như shop đăng, m có ib và nhờ shop chụp hình trước shop nhiệt tình. Cảm ơn shop\n",
            "Predicted rating:  5\n",
            "Crawled rating:  5\n",
            "====================================================================================================\n",
            "Điện thoại đẹp ko bị xước. Cảm ứng vẫn rất mượt. Lần đầu mua hàng của shop, shop thân thiện và tư vấn nhiệt tình. Đang có nhu cầu mua thêm cái nữa, chờ lương về sẽ đặt thêm cái nữa nhé shop.\n",
            "Predicted rating:  5\n",
            "Crawled rating:  5\n",
            "====================================================================================================\n",
            "Sản phẩm rất tốt mình rất thích cảm ơn shop nhiều nhé.:))))\n",
            "Predicted rating:  5\n",
            "Crawled rating:  5\n",
            "====================================================================================================\n",
            "Chất lượng sản phẩm tuyệt vời chủ shop nhiệt tình giao hàng nhanh đóng gói sản phẩm rất đẹp và chắc chắn\n",
            "Predicted rating:  5\n",
            "Crawled rating:  5\n",
            "====================================================================================================\n",
            "Máy đẹp zinll pin tới 95% shop hổ trợ nhiệt tình ( ai có mua iphone nên mua ở shop này uy tính chất lượng đúng hàng ) chúc shop mua mai bán đắt nhé .cảm ơn \n",
            "Predicted rating:  5\n",
            "Crawled rating:  5\n",
            "====================================================================================================\n",
            "Các chức năng đầy đủ, hoạt động mượt. Nhưng sóng nhà mạng bắt hơi yếu chỉ đc từ 1-3 trên 4 vạch sóng\n",
            "Predicted rating:  5\n",
            "Crawled rating:  4\n",
            "====================================================================================================\n",
            "Đc tặng ốp. Đẹp \n",
            "Predicted rating:  5\n",
            "Crawled rating:  5\n",
            "====================================================================================================\n",
            "Máy đẹp, vừa với giá tiền các bác, nói chung lần đâu mua điện thoại trên shoppe thế là quá ok. \n",
            "Predicted rating:  5\n",
            "Crawled rating:  5\n",
            "====================================================================================================\n",
            "Máy dung lượng pin 100%. Thật sự quá xuất sắc\n",
            "Predicted rating:  1\n",
            "Crawled rating:  5\n",
            "====================================================================================================\n",
            "Tuyệt vời \n",
            "Predicted rating:  5\n",
            "Crawled rating:  5\n",
            "====================================================================================================\n",
            "Shop rất uy tín. Máy bị lỗi khay sim, shop đã đổi lại máy khác. \n",
            "Predicted rating:  5\n",
            "Crawled rating:  5\n",
            "====================================================================================================\n",
            "spam tốt\n",
            "Predicted rating:  5\n",
            "Crawled rating:  5\n",
            "====================================================================================================\n",
            ".....\n",
            "Predicted rating:  5\n",
            "Crawled rating:  5\n",
            "====================================================================================================\n",
            "Shop hỗ trợ rất nhiệt tình. Ban đầu máy bị lỗi nguồn, shop rất uy tín đổi cho  1 chiếc máy khác, chiếc đó đẹp hơn chiếc cũ, dùng ổn định hơn rất nhiều. Cảm ơn shop nhiều. Chúc shop buôn may bán đắt.\n",
            "Predicted rating:  5\n",
            "Crawled rating:  5\n",
            "====================================================================================================\n",
            "Máy ok nhe mọi người\n",
            "Predicted rating:  5\n",
            "Crawled rating:  5\n",
            "====================================================================================================\n",
            "Rất ok . \n",
            "Predicted rating:  5\n",
            "Crawled rating:  5\n",
            "====================================================================================================\n",
            "đặt máy 16GB shop gửi hẳn 32GB, máy sài tốt, để làm máy phụ chứ đừng nên chơi game nha mn :)))\n",
            "Predicted rating:  5\n",
            "Crawled rating:  5\n",
            "====================================================================================================\n",
            "Đặt màu đen nhưng giao màu xám. Nhưng hong sao\n",
            "Predicted rating:  4\n",
            "Crawled rating:  5\n",
            "====================================================================================================\n",
            "Ok\n",
            "Predicted rating:  5\n",
            "Crawled rating:  5\n",
            "====================================================================================================\n",
            "Máy nhìn rất mới, chưa sử dụng mới lướt qua có vẻ mượt, đẹp. Nếu chăm sóc sau mua tốt thì hoàn hảo\n",
            "Predicted rating:  5\n",
            "Crawled rating:  5\n",
            "====================================================================================================\n",
            "Hàng giao đẹp long lanh như mới cứng, không một vết xước. Máy dùng rất ổn định, không bị lỗi. Sẽ tiếp tục ủng hộ shop trong tương lai.\n",
            "Predicted rating:  5\n",
            "Crawled rating:  5\n",
            "====================================================================================================\n",
            "Chất lượng tốt, dùng thời gian xem thế nào\n",
            "Predicted rating:  5\n",
            "Crawled rating:  5\n",
            "====================================================================================================\n",
            "Shop dễ thương thân thiện\n",
            "Predicted rating:  5\n",
            "Crawled rating:  5\n",
            "====================================================================================================\n",
            "đánh giá 10 sao luốn, hàng về quá đẹp quá đã!\n",
            "Predicted rating:  4\n",
            "Crawled rating:  5\n",
            "====================================================================================================\n",
            "Mình cứ nghĩ là máy qte vn ai ngờ lại là qte hàn quốc\n",
            "Predicted rating:  5\n",
            "Crawled rating:  4\n",
            "====================================================================================================\n",
            "Nên mua shop nhiệt tình ưu đãi . Hết. Tốt .\n",
            "Predicted rating:  5\n",
            "Crawled rating:  5\n",
            "====================================================================================================\n"
          ],
          "name": "stdout"
        }
      ]
    },
    {
      "cell_type": "code",
      "metadata": {
        "colab": {
          "base_uri": "https://localhost:8080/"
        },
        "id": "BymJk5dKQInm",
        "outputId": "59ff5c9d-1ad2-420a-b36e-d242d013957b"
      },
      "source": [
        "data['avg_rating'] = y_pred.mean()\r\n",
        "print(data['avg_rating'])"
      ],
      "execution_count": 15,
      "outputs": [
        {
          "output_type": "stream",
          "text": [
            "4.828571428571428\n"
          ],
          "name": "stdout"
        }
      ]
    },
    {
      "cell_type": "markdown",
      "metadata": {
        "id": "53jHseeK1H_k"
      },
      "source": [
        "## Predict using BERT"
      ]
    },
    {
      "cell_type": "code",
      "metadata": {
        "colab": {
          "base_uri": "https://localhost:8080/"
        },
        "id": "71T14XMt3JW4",
        "outputId": "1c242188-f6f9-400f-c4d0-ca02629f391f"
      },
      "source": [
        "from transformers import TFAutoModel, AutoTokenizer\r\n",
        "phobert = TFAutoModel.from_pretrained(\"vinai/phobert-base\")\r\n",
        "tokenizer = AutoTokenizer.from_pretrained(\"vinai/phobert-base\", use_fast=False)"
      ],
      "execution_count": 16,
      "outputs": [
        {
          "output_type": "stream",
          "text": [
            "Some layers from the model checkpoint at vinai/phobert-base were not used when initializing TFRobertaModel: ['lm_head']\n",
            "- This IS expected if you are initializing TFRobertaModel from the checkpoint of a model trained on another task or with another architecture (e.g. initializing a BertForSequenceClassification model from a BertForPreTraining model).\n",
            "- This IS NOT expected if you are initializing TFRobertaModel from the checkpoint of a model that you expect to be exactly identical (initializing a BertForSequenceClassification model from a BertForSequenceClassification model).\n",
            "All the layers of TFRobertaModel were initialized from the model checkpoint at vinai/phobert-base.\n",
            "If your task is similar to the task the model of the checkpoint was trained on, you can already use TFRobertaModel for predictions without further training.\n",
            "Special tokens have been added in the vocabulary, make sure the associated word embedding are fine-tuned or trained.\n"
          ],
          "name": "stderr"
        }
      ]
    },
    {
      "cell_type": "code",
      "metadata": {
        "colab": {
          "base_uri": "https://localhost:8080/"
        },
        "id": "nUwGbJW73kqy",
        "outputId": "e4f31320-d5b8-4a4a-dfc7-51f766f247dd"
      },
      "source": [
        "input_cmts = np.array([i[1] for i in reviews])\r\n",
        "y = np.array([i[0] for i in reviews])\r\n",
        "\r\n",
        "x = np.vectorize(word_segment)(input_cmts)\r\n",
        "\r\n",
        "input_cmts = input_cmts[x!=\"\"]\r\n",
        "y=y[x!=\"\"]\r\n",
        "x = x[x!=\"\"] #filter empty comment\r\n",
        "\r\n",
        "x.shape"
      ],
      "execution_count": 17,
      "outputs": [
        {
          "output_type": "execute_result",
          "data": {
            "text/plain": [
              "(35,)"
            ]
          },
          "metadata": {
            "tags": []
          },
          "execution_count": 17
        }
      ]
    },
    {
      "cell_type": "code",
      "metadata": {
        "colab": {
          "base_uri": "https://localhost:8080/"
        },
        "id": "DJRqTs0_28cY",
        "outputId": "e26e1369-aac5-4c99-e103-609fee28247e"
      },
      "source": [
        "x_tokenized = [tokenizer.encode(sent) for sent in x] #Convert each word in the sentence into token_id which is input of BERT\r\n",
        "\r\n",
        "max_length = 0\r\n",
        "for sent in x_tokenized:\r\n",
        "    if max_length < len(sent):\r\n",
        "        max_length = len(sent)\r\n",
        "  \r\n",
        "\r\n",
        "if max_length > 256: #BERT model maximum input sequence's length\r\n",
        "    max_length = 256 \r\n",
        "\r\n",
        "#truncate the sentence to max_length\r\n",
        "truncated_x_tokenized = [(sent[:max_length-1] + [tokenizer.eos_token_id]) if (len(sent) > max_length) else sent for sent in x_tokenized]\r\n",
        "#padding sentence that does not have full length\r\n",
        "padded_x_tokenized = np.array([sent + [tokenizer.pad_token_id]*(max_length-len(sent)) for sent in truncated_x_tokenized]) \r\n",
        "attention_mask = np.where(padded_x_tokenized == tokenizer.pad_token_id , 0 , 1)\r\n",
        "\r\n",
        "print(padded_x_tokenized.shape)\r\n",
        "print(attention_mask.shape)"
      ],
      "execution_count": 18,
      "outputs": [
        {
          "output_type": "stream",
          "text": [
            "(35, 103)\n",
            "(35, 103)\n"
          ],
          "name": "stdout"
        }
      ]
    },
    {
      "cell_type": "code",
      "metadata": {
        "colab": {
          "base_uri": "https://localhost:8080/"
        },
        "id": "7YT6iDDP4H-B",
        "outputId": "b1c46283-1ea5-4028-eba1-82e44e2f496d"
      },
      "source": [
        "review_data = tf.data.Dataset.from_tensor_slices((padded_x_tokenized, attention_mask)).batch(2) \r\n",
        "print(tf.data.experimental.cardinality(review_data)) # convert the data into mini-batches with size 2"
      ],
      "execution_count": 19,
      "outputs": [
        {
          "output_type": "stream",
          "text": [
            "tf.Tensor(18, shape=(), dtype=int64)\n"
          ],
          "name": "stdout"
        }
      ]
    },
    {
      "cell_type": "code",
      "metadata": {
        "colab": {
          "base_uri": "https://localhost:8080/"
        },
        "id": "5kapruZ13_Gl",
        "outputId": "650c5301-ef54-4635-b3b0-a3767f2f787a"
      },
      "source": [
        "extracted_features = []\r\n",
        "for x_i, attention_map_i in review_data:\r\n",
        "    features = phobert(x_i, attention_mask= attention_map_i)\r\n",
        "    final_features = features[0][:,0,:] #the embedding of the <cls> token (index 0) is the final representation of the whole sentence\r\n",
        "    #final_features = features[1]\r\n",
        "    extracted_features.append(final_features.numpy())\r\n",
        "    \r\n",
        "extracted_features = np.concatenate(extracted_features) \r\n",
        "print(extracted_features.shape)"
      ],
      "execution_count": 20,
      "outputs": [
        {
          "output_type": "stream",
          "text": [
            "(35, 768)\n"
          ],
          "name": "stdout"
        }
      ]
    },
    {
      "cell_type": "code",
      "metadata": {
        "id": "G-Qsiqkg5Ezq"
      },
      "source": [
        "\r\n",
        "bert_nn_model = tf.keras.models.Sequential([\r\n",
        "    tf.keras.layers.Input(768),\r\n",
        "    tf.keras.layers.Dense(256, activation='relu', kernel_regularizer=tf.keras.regularizers.L2(0.0)),\r\n",
        "    tf.keras.layers.Dense(256, activation='relu', kernel_regularizer=tf.keras.regularizers.L2(0.0)),\r\n",
        "    tf.keras.layers.Dropout(0.5),\r\n",
        "    tf.keras.layers.Dense(5, activation ='softmax', kernel_regularizer=tf.keras.regularizers.L2(0.0))\r\n",
        "])\r\n",
        "\r\n",
        "bert_nn_model.load_weights(\"models/bert_nn_classify_model.h5\")"
      ],
      "execution_count": 21,
      "outputs": []
    },
    {
      "cell_type": "code",
      "metadata": {
        "id": "YJYTasjg5QSh"
      },
      "source": [
        "y_pred = np.argmax(bert_nn_model(extracted_features).numpy(), axis=1) +1"
      ],
      "execution_count": 22,
      "outputs": []
    },
    {
      "cell_type": "code",
      "metadata": {
        "colab": {
          "base_uri": "https://localhost:8080/"
        },
        "id": "demM0U4h5W-n",
        "outputId": "89c59772-78a1-464c-fac8-17c5c313dcd6"
      },
      "source": [
        "for i in range(len(input_cmts)):\r\n",
        "    predict = y_pred[i] \r\n",
        "    truth = y[i]\r\n",
        "    print(input_cmts[i])\r\n",
        "    print(\"Predicted rating: \", predict)\r\n",
        "    print(\"Crawled rating: \", truth)\r\n",
        "    print(\"==\"*50)"
      ],
      "execution_count": 23,
      "outputs": [
        {
          "output_type": "stream",
          "text": [
            "Giao hàng hơi lâu máy zin đẹp 99% abcsksbsksbsjsbsbdksbsnsnssnakabajajababsbdbsnsnsbdbdbsjsjsbsbsjsjsbbsbdhsjsjsjssbsjsjananaansbdudbsjsnsbsjsjsnbssbsbsbbsbs\n",
            "Predicted rating:  5\n",
            "Crawled rating:  4\n",
            "====================================================================================================\n",
            "đt rất oki nhé chủ shop thân thiện rep tn rất nhanh nói chung 5 sao \n",
            "Predicted rating:  5\n",
            "Crawled rating:  5\n",
            "====================================================================================================\n",
            "Hàng mới dùng chưa thấy lỗi!\n",
            "Predicted rating:  1\n",
            "Crawled rating:  5\n",
            "====================================================================================================\n",
            "Rất là con chim ưng luôn nha. Nhận hang cứ tưởng bị lừa, ai ngờ được a chủ Shop nhiệt tình và giải quyết sự cố trong một nốt nhạc. Cảm ơn Shop nhiều vì đã tăng tí lòng tin khi mua đồ online nha.hihi tăng Shop 500+ nhé!\n",
            "Predicted rating:  5\n",
            "Crawled rating:  5\n",
            "====================================================================================================\n",
            "Iphone 6 là sản phẩm với thiết kế mới của nhà Apple Kích thước màn hình 4,7 inh đến nay vẫn là tiêu chuẩn cho các dòng điện thoại mới Máy có thiết kế vỏ nhôm bo cong, mặt kính chống trầy Hiện nay cửa hàng mới nhập về rất nhiều iphone 6 qua sử dung hình thức còn đẹp. Chất pin còn vô cùng tốt,máy chạy\n",
            "Predicted rating:  5\n",
            "Crawled rating:  5\n",
            "====================================================================================================\n",
            "Shop siêu đáng yêu, anh chủ siêu nhiệt tình, mua máy mà nó bị lỗi tai nghe gọi điện a chủ cũng đổi cho, các bạn yên tâm đặt hàng nhé. Chúc shop buôn may bán đắt nhé❤️\n",
            "Predicted rating:  5\n",
            "Crawled rating:  5\n",
            "====================================================================================================\n",
            "Shop đóng gói cẩn thận mọi chức năng ok, shop tặng cho miếng dán màn hình nữa thì tốt hihi. hy vọng dùng đc lâu, vì mình mua cho mẹ dùng hì hì\n",
            "Predicted rating:  5\n",
            "Crawled rating:  5\n",
            "====================================================================================================\n",
            "Giao hàng nhanhhh , sản phẩm tốt , có hơi lag 1 xíu nhưng giá rẻ nên cũng không đòi hỏi nhiều . Còn được tặng cả ốp nữa :3\n",
            "Predicted rating:  5\n",
            "Crawled rating:  5\n",
            "====================================================================================================\n",
            "Hdbxjxozksnhshxnzjzzjnxxjjxkznxjxjzkzkzjxnxjxhsjxjxjd\n",
            "Predicted rating:  5\n",
            "Crawled rating:  5\n",
            "====================================================================================================\n",
            "Điện thoại đúng chất lượng như shop đăng, m có ib và nhờ shop chụp hình trước shop nhiệt tình. Cảm ơn shop\n",
            "Predicted rating:  5\n",
            "Crawled rating:  5\n",
            "====================================================================================================\n",
            "Điện thoại đẹp ko bị xước. Cảm ứng vẫn rất mượt. Lần đầu mua hàng của shop, shop thân thiện và tư vấn nhiệt tình. Đang có nhu cầu mua thêm cái nữa, chờ lương về sẽ đặt thêm cái nữa nhé shop.\n",
            "Predicted rating:  5\n",
            "Crawled rating:  5\n",
            "====================================================================================================\n",
            "Sản phẩm rất tốt mình rất thích cảm ơn shop nhiều nhé.:))))\n",
            "Predicted rating:  5\n",
            "Crawled rating:  5\n",
            "====================================================================================================\n",
            "Chất lượng sản phẩm tuyệt vời chủ shop nhiệt tình giao hàng nhanh đóng gói sản phẩm rất đẹp và chắc chắn\n",
            "Predicted rating:  5\n",
            "Crawled rating:  5\n",
            "====================================================================================================\n",
            "Máy đẹp zinll pin tới 95% shop hổ trợ nhiệt tình ( ai có mua iphone nên mua ở shop này uy tính chất lượng đúng hàng ) chúc shop mua mai bán đắt nhé .cảm ơn \n",
            "Predicted rating:  5\n",
            "Crawled rating:  5\n",
            "====================================================================================================\n",
            "Các chức năng đầy đủ, hoạt động mượt. Nhưng sóng nhà mạng bắt hơi yếu chỉ đc từ 1-3 trên 4 vạch sóng\n",
            "Predicted rating:  4\n",
            "Crawled rating:  4\n",
            "====================================================================================================\n",
            "Đc tặng ốp. Đẹp \n",
            "Predicted rating:  4\n",
            "Crawled rating:  5\n",
            "====================================================================================================\n",
            "Máy đẹp, vừa với giá tiền các bác, nói chung lần đâu mua điện thoại trên shoppe thế là quá ok. \n",
            "Predicted rating:  5\n",
            "Crawled rating:  5\n",
            "====================================================================================================\n",
            "Máy dung lượng pin 100%. Thật sự quá xuất sắc\n",
            "Predicted rating:  5\n",
            "Crawled rating:  5\n",
            "====================================================================================================\n",
            "Tuyệt vời \n",
            "Predicted rating:  1\n",
            "Crawled rating:  5\n",
            "====================================================================================================\n",
            "Shop rất uy tín. Máy bị lỗi khay sim, shop đã đổi lại máy khác. \n",
            "Predicted rating:  5\n",
            "Crawled rating:  5\n",
            "====================================================================================================\n",
            "spam tốt\n",
            "Predicted rating:  1\n",
            "Crawled rating:  5\n",
            "====================================================================================================\n",
            ".....\n",
            "Predicted rating:  4\n",
            "Crawled rating:  5\n",
            "====================================================================================================\n",
            "Shop hỗ trợ rất nhiệt tình. Ban đầu máy bị lỗi nguồn, shop rất uy tín đổi cho  1 chiếc máy khác, chiếc đó đẹp hơn chiếc cũ, dùng ổn định hơn rất nhiều. Cảm ơn shop nhiều. Chúc shop buôn may bán đắt.\n",
            "Predicted rating:  5\n",
            "Crawled rating:  5\n",
            "====================================================================================================\n",
            "Máy ok nhe mọi người\n",
            "Predicted rating:  5\n",
            "Crawled rating:  5\n",
            "====================================================================================================\n",
            "Rất ok . \n",
            "Predicted rating:  5\n",
            "Crawled rating:  5\n",
            "====================================================================================================\n",
            "đặt máy 16GB shop gửi hẳn 32GB, máy sài tốt, để làm máy phụ chứ đừng nên chơi game nha mn :)))\n",
            "Predicted rating:  5\n",
            "Crawled rating:  5\n",
            "====================================================================================================\n",
            "Đặt màu đen nhưng giao màu xám. Nhưng hong sao\n",
            "Predicted rating:  3\n",
            "Crawled rating:  5\n",
            "====================================================================================================\n",
            "Ok\n",
            "Predicted rating:  4\n",
            "Crawled rating:  5\n",
            "====================================================================================================\n",
            "Máy nhìn rất mới, chưa sử dụng mới lướt qua có vẻ mượt, đẹp. Nếu chăm sóc sau mua tốt thì hoàn hảo\n",
            "Predicted rating:  5\n",
            "Crawled rating:  5\n",
            "====================================================================================================\n",
            "Hàng giao đẹp long lanh như mới cứng, không một vết xước. Máy dùng rất ổn định, không bị lỗi. Sẽ tiếp tục ủng hộ shop trong tương lai.\n",
            "Predicted rating:  5\n",
            "Crawled rating:  5\n",
            "====================================================================================================\n",
            "Chất lượng tốt, dùng thời gian xem thế nào\n",
            "Predicted rating:  4\n",
            "Crawled rating:  5\n",
            "====================================================================================================\n",
            "Shop dễ thương thân thiện\n",
            "Predicted rating:  1\n",
            "Crawled rating:  5\n",
            "====================================================================================================\n",
            "đánh giá 10 sao luốn, hàng về quá đẹp quá đã!\n",
            "Predicted rating:  5\n",
            "Crawled rating:  5\n",
            "====================================================================================================\n",
            "Mình cứ nghĩ là máy qte vn ai ngờ lại là qte hàn quốc\n",
            "Predicted rating:  2\n",
            "Crawled rating:  4\n",
            "====================================================================================================\n",
            "Nên mua shop nhiệt tình ưu đãi . Hết. Tốt .\n",
            "Predicted rating:  1\n",
            "Crawled rating:  5\n",
            "====================================================================================================\n"
          ],
          "name": "stdout"
        }
      ]
    },
    {
      "cell_type": "markdown",
      "metadata": {
        "id": "QBdDlZucUwRl"
      },
      "source": [
        "# Image Product Category Prediction"
      ]
    },
    {
      "cell_type": "code",
      "metadata": {
        "id": "gW-nDnq8XYvZ"
      },
      "source": [
        "img_url = data['img_url'][0][1:-1]"
      ],
      "execution_count": 24,
      "outputs": []
    },
    {
      "cell_type": "code",
      "metadata": {
        "id": "SbHPN5wOU06N"
      },
      "source": [
        "product_class_index = {'AUDIO': 0,\r\n",
        " 'CAPSAC': 1,\r\n",
        " 'CHUOTBANPHIM': 2,\r\n",
        " 'DIENTHOAI': 3,\r\n",
        " 'GAYCHUPHINH': 4,\r\n",
        " 'LAPTOP': 5,\r\n",
        " 'LINHKIENMAYTINH': 6,\r\n",
        " 'MAYBAN': 7,\r\n",
        " 'MAYTINHBANG': 8,\r\n",
        " 'MIENGDAN': 9,\r\n",
        " 'OCUNG': 10,\r\n",
        " 'PHUKIEN': 11,\r\n",
        " 'PINSAC': 12,\r\n",
        " 'SIM': 13,\r\n",
        " 'THIETBIMANG': 14,\r\n",
        " 'VOBAOOPLUNG': 15}\r\n",
        "\r\n",
        "product_index_category = {value:key for key,value in product_class_index.items()}"
      ],
      "execution_count": 25,
      "outputs": []
    },
    {
      "cell_type": "code",
      "metadata": {
        "id": "bB513YczXLyk"
      },
      "source": [
        "val_datagen = tf.keras.preprocessing.image.ImageDataGenerator(\r\n",
        "    rescale=1. / 255)"
      ],
      "execution_count": 26,
      "outputs": []
    },
    {
      "cell_type": "code",
      "metadata": {
        "id": "_lEwdDlcWYNH"
      },
      "source": [
        "#Using ResNet50 pretrained on ImageNet\r\n",
        "backbone = tf.keras.applications.ResNet50(include_top=False,weights='imagenet', input_shape=(224,224,3), pooling='avg')\r\n",
        "x = tf.keras.layers.Dense(16, activation='softmax')(backbone.output)\r\n",
        "product_model = tf.keras.Model(inputs=backbone.input, outputs =x)"
      ],
      "execution_count": 27,
      "outputs": []
    },
    {
      "cell_type": "code",
      "metadata": {
        "id": "ojK4ZastXMR5"
      },
      "source": [
        "product_model.load_weights(\"models/ResNet50_product_16.h5\")"
      ],
      "execution_count": 28,
      "outputs": []
    },
    {
      "cell_type": "code",
      "metadata": {
        "colab": {
          "base_uri": "https://localhost:8080/"
        },
        "id": "6E3qd5H8XOx7",
        "outputId": "6c00f735-b138-4064-b537-f2fad88e5b8d"
      },
      "source": [
        "if not os.path.exists(\"demo\"): #download product's image\r\n",
        "    os.makedirs(\"demo\")\r\n",
        "r = requests.get(img_url, allow_redirects=True) #get image from image_url\r\n",
        "open(\"demo/test_image.png\", 'wb').write(r.content)"
      ],
      "execution_count": 29,
      "outputs": [
        {
          "output_type": "execute_result",
          "data": {
            "text/plain": [
              "9713"
            ]
          },
          "metadata": {
            "tags": []
          },
          "execution_count": 29
        }
      ]
    },
    {
      "cell_type": "code",
      "metadata": {
        "id": "sbbe78baYohD"
      },
      "source": [
        "img = cv2.imread(\"demo/test_image.png\")[:,:,::-1]"
      ],
      "execution_count": 30,
      "outputs": []
    },
    {
      "cell_type": "code",
      "metadata": {
        "colab": {
          "base_uri": "https://localhost:8080/",
          "height": 286
        },
        "id": "LqM60PxBY5O6",
        "outputId": "64e82dc2-a5a4-4946-b448-9a6d6795f081"
      },
      "source": [
        "plt.figure()\r\n",
        "plt.imshow(img)"
      ],
      "execution_count": 31,
      "outputs": [
        {
          "output_type": "execute_result",
          "data": {
            "text/plain": [
              "<matplotlib.image.AxesImage at 0x7fb6e5060828>"
            ]
          },
          "metadata": {
            "tags": []
          },
          "execution_count": 31
        },
        {
          "output_type": "display_data",
          "data": {
            "image/png": "[encoded data removed]",
            "text/plain": [
              "<Figure size 432x288 with 1 Axes>"
            ]
          },
          "metadata": {
            "tags": [],
            "needs_background": "light"
          }
        }
      ]
    },
    {
      "cell_type": "code",
      "metadata": {
        "colab": {
          "base_uri": "https://localhost:8080/"
        },
        "id": "o0t-N55WZVz0",
        "outputId": "517783ca-eb51-4c94-8f75-d4ed0809c554"
      },
      "source": [
        "val_datagen.flow(cv2.resize(img,(224,224))[None,:,:])"
      ],
      "execution_count": 32,
      "outputs": [
        {
          "output_type": "execute_result",
          "data": {
            "text/plain": [
              "<tensorflow.python.keras.preprocessing.image.NumpyArrayIterator at 0x7fb6e5033668>"
            ]
          },
          "metadata": {
            "tags": []
          },
          "execution_count": 32
        }
      ]
    },
    {
      "cell_type": "code",
      "metadata": {
        "colab": {
          "base_uri": "https://localhost:8080/"
        },
        "id": "j5tjk7c8ZFjE",
        "outputId": "6a8f7796-0cc5-4923-8cb7-1d24b3a94b69"
      },
      "source": [
        "scores = product_model.predict(val_datagen.flow(cv2.resize(img,(224,224))[None,:,:]))\r\n",
        "predicted_category = product_index_category[int(tf.argmax(scores,axis=1).numpy())]\r\n",
        "print(\"Predicted category:\", predicted_category)"
      ],
      "execution_count": 33,
      "outputs": [
        {
          "output_type": "stream",
          "text": [
            "Predicted category: DIENTHOAI\n"
          ],
          "name": "stdout"
        }
      ]
    },
    {
      "cell_type": "code",
      "metadata": {
        "id": "idFm908EyfxM"
      },
      "source": [
        "data['predicted_category'] = predicted_category"
      ],
      "execution_count": 34,
      "outputs": []
    },
    {
      "cell_type": "markdown",
      "metadata": {
        "id": "IMwFt385ZzGB"
      },
      "source": [
        "# Sold Prediction"
      ]
    },
    {
      "cell_type": "code",
      "metadata": {
        "id": "fBJeeCE1pqj4"
      },
      "source": [
        "item_df = pd.read_csv(\"data/items.csv\",encoding='utf-8', delimiter=\"\\t\")\r\n",
        "search_df = pd.read_csv(\"data/search_15k6.csv\",encoding='utf-8', delimiter=\"\\t\")\r\n",
        "#Convert shop_rate_feedback and shop_time_feedback's None values to zeros\r\n",
        "\r\n",
        "item_df[['shop_rate_feedback']] = item_df[['shop_rate_feedback']].replace(\"None\", 0).astype(int)\r\n",
        "item_df[['shop_time_feedback']] = item_df[['shop_time_feedback']].replace(\"None\", 0).astype(int)\r\n",
        "\r\n",
        "full_df = search_df.merge(item_df, how='inner', on=['id'], suffixes=(None,'_2'))"
      ],
      "execution_count": 35,
      "outputs": []
    },
    {
      "cell_type": "code",
      "metadata": {
        "id": "rG9NxmNTqRCY"
      },
      "source": [
        "#category: categorical\r\n",
        "#price: numerical\r\n",
        "#shop_address: categorical\r\n",
        "#avg_rating: numerical\r\n",
        "#n_reviews: numerical\r\n",
        "#n_loved: numerical\r\n",
        "#shop_n_review: numerical\r\n",
        "#shop_n_product: numerical\r\n",
        "#shop_rate_feedback: numerical \r\n",
        "#shop_time_feedback: numerical\r\n",
        "#shop_age: numerical\r\n",
        "#shop_follower: numerical\r\n",
        "\r\n",
        "#Extract features\r\n",
        "category = pd.get_dummies(full_df['category'], drop_first=True) #Convert category to one hot encoding\r\n",
        "price = full_df[['price']]\r\n",
        "shop_address = pd.get_dummies(full_df['shop_address'], drop_first=True)\r\n",
        "avg_rating = full_df[['avg_rating']]\r\n",
        "n_reviews = full_df[['n_reviews']]\r\n",
        "n_loved = full_df[['n_loved']]\r\n",
        "shop_n_review = full_df[['shop_n_review']]\r\n",
        "shop_n_product = full_df[['shop_n_product']]\r\n",
        "shop_rate_feedback = full_df[['shop_rate_feedback']]\r\n",
        "shop_time_feedback = full_df[['shop_time_feedback']]\r\n",
        "shop_age = full_df[['shop_age']]\r\n",
        "shop_follower = full_df[['shop_follower']]\r\n"
      ],
      "execution_count": 36,
      "outputs": []
    },
    {
      "cell_type": "code",
      "metadata": {
        "id": "7LMUGuvAqXya"
      },
      "source": [
        "feature_list = [shop_address, \r\n",
        "                category, \r\n",
        "                price,\r\n",
        "\r\n",
        "                avg_rating, \r\n",
        "                n_reviews, \r\n",
        "                n_loved, \r\n",
        "\r\n",
        "                shop_n_review, \r\n",
        "                shop_n_product, \r\n",
        "                shop_rate_feedback, \r\n",
        "                shop_time_feedback, \r\n",
        "                shop_age, \r\n",
        "                shop_follower\r\n",
        "                ]"
      ],
      "execution_count": 37,
      "outputs": []
    },
    {
      "cell_type": "code",
      "metadata": {
        "id": "Zs8vqpkdqeIs"
      },
      "source": [
        "X = np.hstack(feature_list)\r\n",
        "X_train, X_test = train_test_split(X, test_size=0.2, random_state=1)\r\n",
        "X_train, X_val = train_test_split(X_train , test_size=0.2, random_state=1)"
      ],
      "execution_count": 38,
      "outputs": []
    },
    {
      "cell_type": "code",
      "metadata": {
        "id": "iYdUZke_rSoH"
      },
      "source": [
        "#perform feature scaling\r\n",
        "normalizer = StandardScaler()\r\n",
        "\r\n",
        "X_train = normalizer.fit_transform(X_train)\r\n",
        "X_val = normalizer.transform(X_val)\r\n",
        "X_test = normalizer.transform(X_test)"
      ],
      "execution_count": 39,
      "outputs": []
    },
    {
      "cell_type": "code",
      "metadata": {
        "id": "Ufqc8LGOrj58"
      },
      "source": [
        "category_to_index = {cat:i for i, cat in enumerate(category.columns.to_numpy())}\r\n",
        "shop_address_to_index = {addr:i for i, addr in enumerate(shop_address.columns.to_numpy())}"
      ],
      "execution_count": 40,
      "outputs": []
    },
    {
      "cell_type": "code",
      "metadata": {
        "id": "OqOvrMAYyQHC"
      },
      "source": [
        "def transform_onehot(str_value, convert_dict): #convert a category string value into onehot vector using convert_dict to look up\r\n",
        "    #e.g. 'DIENTHOAI' => [0,0,1,0,....,0]\r\n",
        "    res = np.zeros(len(convert_dict))\r\n",
        "    if str_value in convert_dict.keys():\r\n",
        "        res[convert_dict[str_value]] = 1\r\n",
        "    return res\r\n"
      ],
      "execution_count": 41,
      "outputs": []
    },
    {
      "cell_type": "code",
      "metadata": {
        "colab": {
          "base_uri": "https://localhost:8080/"
        },
        "id": "7xFw-hm1zS9_",
        "outputId": "081df854-d43d-4dce-ef6d-501d4bff9d8f"
      },
      "source": [
        "transform_onehot(\"Bình Dương\",shop_address_to_index)"
      ],
      "execution_count": 42,
      "outputs": [
        {
          "output_type": "execute_result",
          "data": {
            "text/plain": [
              "array([0., 1., 0., 0., 0., 0., 0., 0., 0., 0., 0., 0., 0., 0., 0., 0., 0.,\n",
              "       0., 0., 0., 0., 0., 0., 0., 0., 0., 0., 0., 0., 0., 0., 0., 0., 0.,\n",
              "       0., 0., 0., 0., 0., 0., 0., 0., 0., 0., 0., 0., 0., 0., 0., 0., 0.,\n",
              "       0., 0., 0., 0., 0., 0.])"
            ]
          },
          "metadata": {
            "tags": []
          },
          "execution_count": 42
        }
      ]
    },
    {
      "cell_type": "code",
      "metadata": {
        "id": "We71LsGyxStA"
      },
      "source": [
        "data['shop_address'] = 'TP. Hồ Chí Minh'"
      ],
      "execution_count": 43,
      "outputs": []
    },
    {
      "cell_type": "code",
      "metadata": {
        "colab": {
          "base_uri": "https://localhost:8080/"
        },
        "id": "7ySpCUdTz3F2",
        "outputId": "0cb70b52-bacc-410a-d0f8-e1f2c758e197"
      },
      "source": [
        "transform_onehot(data['predicted_category'], category_to_index), data['avg_rating']"
      ],
      "execution_count": 44,
      "outputs": [
        {
          "output_type": "execute_result",
          "data": {
            "text/plain": [
              "(array([0., 0., 1., 0., 0., 0., 0., 0., 0., 0., 0., 0., 0., 0., 0.]),\n",
              " 4.828571428571428)"
            ]
          },
          "metadata": {
            "tags": []
          },
          "execution_count": 44
        }
      ]
    },
    {
      "cell_type": "code",
      "metadata": {
        "id": "1QVvERjCyB4P"
      },
      "source": [
        "x = np.hstack([transform_onehot(data['shop_address'],shop_address_to_index), \r\n",
        "     transform_onehot(data['predicted_category'], category_to_index), \r\n",
        "     data['price'],\r\n",
        "     data['avg_rating'], \r\n",
        "     data['n_reviews'], \r\n",
        "     data['n_loved'], \r\n",
        "     data['shop_n_review'], \r\n",
        "     data['shop_n_product'], \r\n",
        "     data['shop_rate_feedback'], \r\n",
        "     data['shop_time_feedback'], \r\n",
        "     data['shop_age'], \r\n",
        "     data['shop_follower']])"
      ],
      "execution_count": 45,
      "outputs": []
    },
    {
      "cell_type": "code",
      "metadata": {
        "id": "MXp0QzPqznBR"
      },
      "source": [
        "x = normalizer.transform(x[None,:])"
      ],
      "execution_count": 46,
      "outputs": []
    },
    {
      "cell_type": "code",
      "metadata": {
        "id": "nR8cILkYsMU-"
      },
      "source": [
        "sold_model = tf.keras.models.Sequential([\r\n",
        "    tf.keras.layers.Input((82,)),\r\n",
        "    tf.keras.layers.Dense(units=32,activation='relu', kernel_regularizer=tf.keras.regularizers.L2(0.01)),\r\n",
        "    tf.keras.layers.Dense(units=64, activation ='relu', kernel_regularizer=tf.keras.regularizers.L2(0.01)),\r\n",
        "    tf.keras.layers.Dense(units=1, activation='relu', kernel_regularizer=tf.keras.regularizers.L2(0.01))\r\n",
        "])\r\n",
        "\r\n",
        "sold_model.load_weights(\"models/sold_prediction_nn_model.h5\")"
      ],
      "execution_count": 47,
      "outputs": []
    },
    {
      "cell_type": "code",
      "metadata": {
        "colab": {
          "base_uri": "https://localhost:8080/"
        },
        "id": "mQVsIyKZ0Vfv",
        "outputId": "41423e1e-3834-4985-b691-9e5da872d380"
      },
      "source": [
        "predicted_n_sold = sold_model(x)\r\n",
        "print(\"Sold predicted value:\",predicted_n_sold.numpy().squeeze())"
      ],
      "execution_count": 48,
      "outputs": [
        {
          "output_type": "stream",
          "text": [
            "Sold predicted value: 903.15656\n"
          ],
          "name": "stdout"
        }
      ]
    },
    {
      "cell_type": "code",
      "metadata": {
        "id": "WCDn4-G704Te"
      },
      "source": [
        ""
      ],
      "execution_count": 48,
      "outputs": []
    }
  ]
}